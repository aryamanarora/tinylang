{
 "cells": [
  {
   "cell_type": "code",
   "execution_count": 75,
   "id": "68bcfeb6-e815-448d-b46f-871f4019ac6d",
   "metadata": {},
   "outputs": [],
   "source": [
    "import sys\n",
    "sys.path.append(\"..\")\n",
    "\n",
    "from tinylang.language import PCFG, QueryType\n",
    "import pandas as pd\n",
    "import plotnine as p9\n",
    "from tqdm import tqdm\n",
    "from copy import deepcopy\n",
    "from collections import defaultdict"
   ]
  },
  {
   "cell_type": "code",
   "execution_count": 32,
   "id": "e89f9c99-ee7f-4504-b4fc-7288cf5c2f9f",
   "metadata": {},
   "outputs": [],
   "source": [
    "pcfg = PCFG(num_terminals=20,\n",
    "            num_nonterminals=10,\n",
    "            max_rhs_len=10,\n",
    "            max_rules_per_nt=5,\n",
    "            max_depth=10,\n",
    "            head_position=\"right\",\n",
    "            mask_nonquery=False,\n",
    "            no_parent_queries=True,\n",
    "            no_sibling_queries=False,\n",
    "            no_child_queries=True,\n",
    "            unambiguous_queries=True)"
   ]
  },
  {
   "cell_type": "code",
   "execution_count": 51,
   "id": "c2652557-616c-4be4-9810-2daab425f36c",
   "metadata": {},
   "outputs": [],
   "source": [
    "sentence = pcfg._sample()"
   ]
  },
  {
   "cell_type": "code",
   "execution_count": 54,
   "id": "298a3bf5-2866-4eda-a17d-14cf343b9b20",
   "metadata": {},
   "outputs": [
    {
     "data": {
      "text/plain": [
       "[Node(label=0, id=6, head_id=1, depth=1),\n",
       " Node(label=8, id=16, head_id=7, depth=2),\n",
       " Node(label=18, id=15, head_id=7, depth=2),\n",
       " Node(label=10, id=14, head_id=7, depth=2),\n",
       " Node(label=10, id=13, head_id=7, depth=2),\n",
       " Node(label=7, id=12, head_id=7, depth=2),\n",
       " Node(label=12, id=11, head_id=7, depth=2),\n",
       " Node(label=11, id=10, head_id=7, depth=2),\n",
       " Node(label=12, id=9, head_id=7, depth=2),\n",
       " Node(label=9, id=8, head_id=7, depth=2),\n",
       " Node(label=17, id=7, head_id=1, depth=2),\n",
       " Node(label=12, id=4, head_id=1, depth=1),\n",
       " Node(label=4, id=3, head_id=1, depth=1),\n",
       " Node(label=2, id=2, head_id=1, depth=1),\n",
       " Node(label=16, id=1, head_id=None, depth=1)]"
      ]
     },
     "execution_count": 54,
     "metadata": {},
     "output_type": "execute_result"
    }
   ],
   "source": [
    "sentence"
   ]
  },
  {
   "cell_type": "markdown",
   "id": "e5b81097-0737-4d3e-9676-127eeaa86a96",
   "metadata": {},
   "source": [
    "we want:\n",
    "- (0, 13)\n",
    "- (11, 13)\n",
    "- (12, 13)\n",
    "- (1, 10)\n",
    "- (2, 10)\n",
    "- (..., 10)"
   ]
  },
  {
   "cell_type": "code",
   "execution_count": 86,
   "id": "fcfc3fb4-db4a-4be1-b20f-0cf5d3f180b0",
   "metadata": {},
   "outputs": [],
   "source": [
    "eligible_pairs = {}\n",
    "# default rightmost sibling is self\n",
    "rightmost_siblings = {q : q for q in range(len(sentence))}\n",
    "\n",
    "# we will construct a list of eligible (query, target) pairs for each query type\n",
    "for query_type in pcfg.acceptable_query_types:\n",
    "    eligible_pairs[query_type] = []\n",
    "\n",
    "    # traverse all pairs\n",
    "    for target in range(len(sentence)):\n",
    "        for query in range(len(sentence)):\n",
    "            # first check train/test split\n",
    "            if len(pcfg.prohibited_pairs) > 0:\n",
    "                if split in [\"train\", \"dev\"]:\n",
    "                    if (sentence[target].label, sentence[query].label) in pcfg.prohibited_pairs:\n",
    "                        continue\n",
    "                elif split == \"test\":\n",
    "                    if (sentence[target].label, sentence[query].label) not in pcfg.prohibited_pairs:\n",
    "                        continue\n",
    "            \n",
    "            # second check if it satisfies the relation\n",
    "            if pcfg.is_relation(sentence, query_type, query, target):\n",
    "                \n",
    "                if query_type == QueryType.SIBLING:\n",
    "                    rightmost_siblings[query] = max(rightmost_siblings[query], target)\n",
    "\n",
    "                else:\n",
    "                    eligible_pairs[query_type].append((query, target))\n",
    "\n",
    "3"
   ]
  },
  {
   "cell_type": "code",
   "execution_count": 87,
   "id": "640559c5-7d9f-440b-9976-63ed1b8ac611",
   "metadata": {},
   "outputs": [
    {
     "data": {
      "text/plain": [
       "{<QueryType.SIBLING: 2>: [(0, 13),\n",
       "  (1, 9),\n",
       "  (2, 9),\n",
       "  (3, 9),\n",
       "  (4, 9),\n",
       "  (5, 9),\n",
       "  (6, 9),\n",
       "  (7, 9),\n",
       "  (8, 9),\n",
       "  (9, 9),\n",
       "  (10, 13),\n",
       "  (11, 13),\n",
       "  (12, 13),\n",
       "  (13, 13),\n",
       "  (14, 14)]}"
      ]
     },
     "execution_count": 87,
     "metadata": {},
     "output_type": "execute_result"
    }
   ],
   "source": [
    "eligible_pairs"
   ]
  },
  {
   "cell_type": "code",
   "execution_count": 83,
   "id": "9964e2a2-f4dc-4e92-ac63-b7d89006d793",
   "metadata": {},
   "outputs": [
    {
     "data": {
      "text/plain": [
       "[Node(label=0, id=6, head_id=1, depth=1),\n",
       " Node(label=8, id=16, head_id=7, depth=2),\n",
       " Node(label=18, id=15, head_id=7, depth=2),\n",
       " Node(label=10, id=14, head_id=7, depth=2),\n",
       " Node(label=10, id=13, head_id=7, depth=2),\n",
       " Node(label=7, id=12, head_id=7, depth=2),\n",
       " Node(label=12, id=11, head_id=7, depth=2),\n",
       " Node(label=11, id=10, head_id=7, depth=2),\n",
       " Node(label=12, id=9, head_id=7, depth=2),\n",
       " Node(label=9, id=8, head_id=7, depth=2),\n",
       " Node(label=17, id=7, head_id=1, depth=2),\n",
       " Node(label=12, id=4, head_id=1, depth=1),\n",
       " Node(label=4, id=3, head_id=1, depth=1),\n",
       " Node(label=2, id=2, head_id=1, depth=1),\n",
       " Node(label=16, id=1, head_id=None, depth=1)]"
      ]
     },
     "execution_count": 83,
     "metadata": {},
     "output_type": "execute_result"
    }
   ],
   "source": [
    "sentence"
   ]
  },
  {
   "cell_type": "code",
   "execution_count": 88,
   "id": "861d32d5-2f44-4ef7-b8a8-bed7204294cd",
   "metadata": {},
   "outputs": [],
   "source": [
    "# now filter for rightmost instance of each child, for the queries\n",
    "    # get rightmost instance of each terminal\n",
    "rightmost_types = dict()\n",
    "for i, node in enumerate(sentence):\n",
    "    rightmost_types[node.label] = max(rightmost_types.get(node.label, 0), i)\n",
    "\n",
    "# query must be the rightmost instance of its type\n",
    "for query_type in pcfg.acceptable_query_types:\n",
    "    if query_type == QueryType.SIBLING:\n",
    "        # for sibling queries, both query and target must be rightmost instances\n",
    "        eligible_pairs[query_type] = [\n",
    "            (query, target) for query, target in eligible_pairs[query_type] if rightmost_types[sentence[query].label] == query and rightmost_types[sentence[target].label] == target\n",
    "        ]\n",
    "    else:\n",
    "        eligible_pairs[query_type] = [\n",
    "            (query, target) for query, target in eligible_pairs[query_type] if rightmost_types[sentence[query].label] == query\n",
    "        ]"
   ]
  },
  {
   "cell_type": "code",
   "execution_count": 64,
   "id": "f27245f2-64ef-4f13-ab8e-c8c9bc67ddee",
   "metadata": {},
   "outputs": [
    {
     "data": {
      "text/plain": [
       "[Node(label=0, id=6, head_id=1, depth=1),\n",
       " Node(label=8, id=16, head_id=7, depth=2),\n",
       " Node(label=18, id=15, head_id=7, depth=2),\n",
       " Node(label=10, id=14, head_id=7, depth=2),\n",
       " Node(label=10, id=13, head_id=7, depth=2),\n",
       " Node(label=7, id=12, head_id=7, depth=2),\n",
       " Node(label=12, id=11, head_id=7, depth=2),\n",
       " Node(label=11, id=10, head_id=7, depth=2),\n",
       " Node(label=12, id=9, head_id=7, depth=2),\n",
       " Node(label=9, id=8, head_id=7, depth=2),\n",
       " Node(label=17, id=7, head_id=1, depth=2),\n",
       " Node(label=12, id=4, head_id=1, depth=1),\n",
       " Node(label=4, id=3, head_id=1, depth=1),\n",
       " Node(label=2, id=2, head_id=1, depth=1),\n",
       " Node(label=16, id=1, head_id=None, depth=1)]"
      ]
     },
     "execution_count": 64,
     "metadata": {},
     "output_type": "execute_result"
    }
   ],
   "source": [
    "sentence"
   ]
  },
  {
   "cell_type": "code",
   "execution_count": 89,
   "id": "24e8d92a-e9a0-4327-9d17-4493a52e7505",
   "metadata": {},
   "outputs": [
    {
     "data": {
      "text/plain": [
       "{<QueryType.SIBLING: 2>: [(0, 13),\n",
       "  (1, 9),\n",
       "  (2, 9),\n",
       "  (4, 9),\n",
       "  (5, 9),\n",
       "  (7, 9),\n",
       "  (9, 9),\n",
       "  (10, 13),\n",
       "  (11, 13),\n",
       "  (12, 13),\n",
       "  (13, 13),\n",
       "  (14, 14)]}"
      ]
     },
     "execution_count": 89,
     "metadata": {},
     "output_type": "execute_result"
    }
   ],
   "source": [
    "eligible_pairs"
   ]
  },
  {
   "cell_type": "code",
   "execution_count": 90,
   "id": "64a2ca93-afb7-4a25-9e57-c1bb0da972ba",
   "metadata": {},
   "outputs": [],
   "source": [
    "# now we have a list of eligible (query, target) pairs for each query type\n",
    "# let's also pass the eligible queries/targets for sampling\n",
    "eligible_queries = {}\n",
    "eligible_targets = {}\n",
    "for query_type in pcfg.acceptable_query_types:\n",
    "    if len(eligible_pairs[query_type]) == 0:\n",
    "        del eligible_pairs[query_type]\n",
    "        continue\n",
    "    eligible_queries[query_type] = list(set([query for query, _ in eligible_pairs[query_type]]))\n",
    "    eligible_targets[query_type] = list(set([target for _, target in eligible_pairs[query_type]]))"
   ]
  }
 ],
 "metadata": {
  "kernelspec": {
   "display_name": "Python 3 (ipykernel)",
   "language": "python",
   "name": "python3"
  },
  "language_info": {
   "codemirror_mode": {
    "name": "ipython",
    "version": 3
   },
   "file_extension": ".py",
   "mimetype": "text/x-python",
   "name": "python",
   "nbconvert_exporter": "python",
   "pygments_lexer": "ipython3",
   "version": "3.12.4"
  }
 },
 "nbformat": 4,
 "nbformat_minor": 5
}
