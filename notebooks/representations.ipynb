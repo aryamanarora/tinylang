{
 "cells": [
  {
   "cell_type": "code",
   "execution_count": 3,
   "id": "a67ca42c-e1b1-405c-9f6d-2de7a9ecfb79",
   "metadata": {},
   "outputs": [],
   "source": [
    "import sys\n",
    "sys.path.append(\"..\")\n",
    "from tinylang import PCFG, train, init_model, QueryType\n",
    "import pickle as pkl\n",
    "\n",
    "from transformers import GPT2Config, GPT2LMHeadModel\n",
    "import torch\n",
    "\n",
    "from sklearn.decomposition import PCA\n",
    "import pandas as pd\n",
    "import plotnine as p9\n",
    "from sklearn.feature_selection import r_regression\n",
    "\n",
    "import matplotlib.pyplot as plt\n",
    "import seaborn as sns\n",
    "\n",
    "device = \"cuda:0\" if torch.cuda.is_available() else \"cpu\""
   ]
  },
  {
   "cell_type": "code",
   "execution_count": 4,
   "id": "fda69d70-a642-49bc-b091-5d0effb5a7ab",
   "metadata": {},
   "outputs": [],
   "source": [
    "pcfg = PCFG(num_terminals=20,\n",
    "            num_nonterminals=10,\n",
    "            max_rhs_len=10,\n",
    "            max_rules_per_nt=5,\n",
    "            max_depth=10,\n",
    "            head_position=\"left\",\n",
    "            mask_nonquery=False)"
   ]
  },
  {
   "cell_type": "code",
   "execution_count": 5,
   "id": "e86d1879-28a0-46cf-ba81-fcc53e5846e2",
   "metadata": {},
   "outputs": [
    {
     "data": {
      "text/plain": [
       "defaultdict(list,\n",
       "            {'nt0': [array(['t13', 't16', 't1', 't7', 't19', 't8'], dtype='<U3'),\n",
       "              array(['t11', 't7', 't14', 'nt8', 'nt3', 'nt4', 'nt5', 'nt6', 't5'],\n",
       "                    dtype='<U3')],\n",
       "             'nt1': [array(['t6', 't8', 't2', 't0', 't12', 't1', 'nt6'], dtype='<U3'),\n",
       "              array(['nt8'], dtype='<U3')],\n",
       "             'nt2': [array(['t5', 't9', 't4', 't2', 'nt6', 't18', 't12', 't10', 't17'],\n",
       "                    dtype='<U3'),\n",
       "              array(['t9', 't14', 't15', 't17', 't0', 't19'], dtype='<U3')],\n",
       "             'nt3': [array(['t15', 't2', 't11', 't16', 't19'], dtype='<U3')],\n",
       "             'nt4': [array(['t12', 't14', 'nt6', 't0', 't2', 'nt3', 't15', 't5'], dtype='<U3'),\n",
       "              array(['nt2', 'nt3', 't11', 'nt7', 't12', 't6', 't9', 't14'], dtype='<U3'),\n",
       "              array(['t5', 't7'], dtype='<U3'),\n",
       "              array(['t8'], dtype='<U3')],\n",
       "             'nt5': [array(['t18', 't7'], dtype='<U3'),\n",
       "              array(['nt8', 't8', 't10', 't5'], dtype='<U3')],\n",
       "             'nt6': [array(['t11', 't14', 't15', 't9', 't18'], dtype='<U3'),\n",
       "              array(['t10', 't12', 't17', 't11', 't15', 't19', 't4', 't6'], dtype='<U3'),\n",
       "              array(['t5', 't8', 't2', 't7', 't10', 't14', 't19', 't12', 't6'],\n",
       "                    dtype='<U3')],\n",
       "             'nt7': [array(['t9', 't2', 'nt3'], dtype='<U3'),\n",
       "              array(['t9', 't16', 't13', 't1'], dtype='<U3')],\n",
       "             'nt8': [array(['t13', 't7', 't15'], dtype='<U3'),\n",
       "              array(['t9', 't15', 'nt9', 't10', 't12', 'nt6', 't1', 't8', 't16'],\n",
       "                    dtype='<U3'),\n",
       "              array(['t2'], dtype='<U3'),\n",
       "              array(['t3', 't5', 'nt3', 't6', 't14', 't17', 'nt9', 't9'], dtype='<U3')],\n",
       "             'nt9': [array(['t1', 't0', 't2', 't14', 't8', 't13', 't9', 't10', 't4'],\n",
       "                    dtype='<U3'),\n",
       "              array(['t5', 't10'], dtype='<U3'),\n",
       "              array(['t19', 'nt3', 't10'], dtype='<U3'),\n",
       "              array(['t9', 't10', 'nt6', 't6', 't14', 't15'], dtype='<U3')]})"
      ]
     },
     "execution_count": 5,
     "metadata": {},
     "output_type": "execute_result"
    }
   ],
   "source": [
    "pcfg.rules"
   ]
  },
  {
   "cell_type": "markdown",
   "id": "f6091c00-be40-4049-8f83-00d2a488dfbd",
   "metadata": {},
   "source": [
    "models learn parent relation later than child / sibling - why?\n",
    "* save checkpoints based on parent acc moving average"
   ]
  },
  {
   "cell_type": "code",
   "execution_count": 262,
   "id": "9002ecf1-be56-4a90-9e6d-b07ffa83bd89",
   "metadata": {},
   "outputs": [
    {
     "name": "stdout",
     "output_type": "stream",
     "text": [
      "Parameters: 0.531072M\n"
     ]
    },
    {
     "name": "stderr",
     "output_type": "stream",
     "text": [
      "Training: 100%|█| 500/500 [00:16<00:00, 29.71it/s, eval_loss=1.37, eval_prob=0.137, eval_prob_CHILD=0.165, eval_prob_PAR\n"
     ]
    },
    {
     "name": "stdout",
     "output_type": "stream",
     "text": [
      "Parameters: 0.531072M\n"
     ]
    },
    {
     "name": "stderr",
     "output_type": "stream",
     "text": [
      "Training: 100%|█| 1000/1000 [00:34<00:00, 28.60it/s, eval_loss=1.15, eval_prob=0.334, eval_prob_CHILD=0.268, eval_prob_P\n"
     ]
    },
    {
     "data": {
      "text/html": [
       "<div>\n",
       "<style scoped>\n",
       "    .dataframe tbody tr th:only-of-type {\n",
       "        vertical-align: middle;\n",
       "    }\n",
       "\n",
       "    .dataframe tbody tr th {\n",
       "        vertical-align: top;\n",
       "    }\n",
       "\n",
       "    .dataframe thead th {\n",
       "        text-align: right;\n",
       "    }\n",
       "</style>\n",
       "<table border=\"1\" class=\"dataframe\">\n",
       "  <thead>\n",
       "    <tr style=\"text-align: right;\">\n",
       "      <th></th>\n",
       "      <th>index</th>\n",
       "      <th>variable</th>\n",
       "      <th>value</th>\n",
       "    </tr>\n",
       "  </thead>\n",
       "  <tbody>\n",
       "    <tr>\n",
       "      <th>2000</th>\n",
       "      <td>0</td>\n",
       "      <td>eval_prob</td>\n",
       "      <td>0.039008</td>\n",
       "    </tr>\n",
       "    <tr>\n",
       "      <th>2001</th>\n",
       "      <td>1</td>\n",
       "      <td>eval_prob</td>\n",
       "      <td>0.039779</td>\n",
       "    </tr>\n",
       "    <tr>\n",
       "      <th>2002</th>\n",
       "      <td>2</td>\n",
       "      <td>eval_prob</td>\n",
       "      <td>0.040507</td>\n",
       "    </tr>\n",
       "    <tr>\n",
       "      <th>2003</th>\n",
       "      <td>3</td>\n",
       "      <td>eval_prob</td>\n",
       "      <td>0.041178</td>\n",
       "    </tr>\n",
       "    <tr>\n",
       "      <th>2004</th>\n",
       "      <td>4</td>\n",
       "      <td>eval_prob</td>\n",
       "      <td>0.041677</td>\n",
       "    </tr>\n",
       "    <tr>\n",
       "      <th>...</th>\n",
       "      <td>...</td>\n",
       "      <td>...</td>\n",
       "      <td>...</td>\n",
       "    </tr>\n",
       "    <tr>\n",
       "      <th>5995</th>\n",
       "      <td>995</td>\n",
       "      <td>eval_prob_CHILD</td>\n",
       "      <td>0.258660</td>\n",
       "    </tr>\n",
       "    <tr>\n",
       "      <th>5996</th>\n",
       "      <td>996</td>\n",
       "      <td>eval_prob_CHILD</td>\n",
       "      <td>0.260863</td>\n",
       "    </tr>\n",
       "    <tr>\n",
       "      <th>5997</th>\n",
       "      <td>997</td>\n",
       "      <td>eval_prob_CHILD</td>\n",
       "      <td>0.264217</td>\n",
       "    </tr>\n",
       "    <tr>\n",
       "      <th>5998</th>\n",
       "      <td>998</td>\n",
       "      <td>eval_prob_CHILD</td>\n",
       "      <td>0.267740</td>\n",
       "    </tr>\n",
       "    <tr>\n",
       "      <th>5999</th>\n",
       "      <td>999</td>\n",
       "      <td>eval_prob_CHILD</td>\n",
       "      <td>0.268285</td>\n",
       "    </tr>\n",
       "  </tbody>\n",
       "</table>\n",
       "<p>4000 rows × 3 columns</p>\n",
       "</div>"
      ],
      "text/plain": [
       "      index         variable     value\n",
       "2000      0        eval_prob  0.039008\n",
       "2001      1        eval_prob  0.039779\n",
       "2002      2        eval_prob  0.040507\n",
       "2003      3        eval_prob  0.041178\n",
       "2004      4        eval_prob  0.041677\n",
       "...     ...              ...       ...\n",
       "5995    995  eval_prob_CHILD  0.258660\n",
       "5996    996  eval_prob_CHILD  0.260863\n",
       "5997    997  eval_prob_CHILD  0.264217\n",
       "5998    998  eval_prob_CHILD  0.267740\n",
       "5999    999  eval_prob_CHILD  0.268285\n",
       "\n",
       "[4000 rows x 3 columns]"
      ]
     },
     "execution_count": 262,
     "metadata": {},
     "output_type": "execute_result"
    }
   ],
   "source": [
    "# defaults\n",
    "n_layer = 2\n",
    "n_embd = 128\n",
    "n_head = 2\n",
    "n_inner = 4\n",
    "\n",
    "config = GPT2Config(\n",
    "    vocab_size=pcfg.vocab_size,\n",
    "    n_positions=1024,\n",
    "    n_embd=n_embd,\n",
    "    n_layer=n_layer,\n",
    "    n_head=n_head,\n",
    "    n_inner=int(n_inner * n_embd),\n",
    "    activation_function=\"gelu_new\",\n",
    "    resid_pdrop=0.0,\n",
    "    embd_pdrop=0.0,\n",
    "    attn_pdrop=0.0,\n",
    "    layer_norm_epsilon=1e-5,\n",
    "    initializer_range=0.02,\n",
    "    summary_type=\"cls_index\",\n",
    ")\n",
    "\n",
    "early_model = GPT2LMHeadModel(config).to(device)\n",
    "early_losses = train(early_model, pcfg, num_steps=500)\n",
    "early_model.eval()\n",
    "\n",
    "late_model = GPT2LMHeadModel(config).to(device)\n",
    "late_losses = train(late_model, pcfg, num_steps=1000)\n",
    "late_model.eval()\n",
    "\n",
    "combined_cols = []\n",
    "\n",
    "for i in range(len(late_losses[\"train_loss\"])):\n",
    "    add = {metric: late_losses[metric][i] for metric in late_losses}\n",
    "    add[\"index\"] = i\n",
    "    combined_cols.append(add)\n",
    "\n",
    "df = pd.DataFrame(combined_cols)\n",
    "df = df.melt(id_vars=[\"index\"])\n",
    "df = df[~((df['variable'] == 'train_loss') + (df['variable'] == 'eval_loss'))]\n",
    "df"
   ]
  },
  {
   "cell_type": "code",
   "execution_count": 263,
   "id": "3a1ab7a1-2004-4b91-9ae9-f0b1fec32f84",
   "metadata": {},
   "outputs": [
    {
     "data": {
      "image/png": "[encoded data removed]"
     },
     "metadata": {},
     "output_type": "display_data"
    }
   ],
   "source": [
    "%config InlineBackend.figure_format = 'png'\n",
    "\n",
    "plot = (\n",
    "    # p9.ggplot(df, p9.aes(x=\"index\", y=\"value\", color=\"d\", group=\"d\")) +\n",
    "    p9.ggplot(df, p9.aes(x=\"index\", y=\"value\", group=\"d\")) +\n",
    "    p9.geom_line() +\n",
    "    p9.ylim(0, 1) +\n",
    "    p9.facet_wrap(\"variable\", scales=\"free\") +\n",
    "    p9.labs(fill=\"hidden dim\") # +\n",
    "    # p9.scale_x_log10()\n",
    ")\n",
    "plot.show()"
   ]
  },
  {
   "cell_type": "markdown",
   "id": "e5ca918c-7add-4cee-9b54-1c48991e3171",
   "metadata": {},
   "source": [
    "# analysis 1: heuristics?\n",
    "\n",
    "comparing\n",
    "1. ...X x1 x2... | x2 parent X\n",
    "2. ...X x1 x2... | x2 parent x1"
   ]
  },
  {
   "cell_type": "code",
   "execution_count": 255,
   "id": "5540860d-39ce-489f-a9a7-73c3bbbefb85",
   "metadata": {},
   "outputs": [
    {
     "data": {
      "text/plain": [
       "19"
      ]
     },
     "execution_count": 255,
     "metadata": {},
     "output_type": "execute_result"
    }
   ],
   "source": []
  },
  {
   "cell_type": "code",
   "execution_count": 270,
   "id": "6edf219a-70c5-41bc-8f63-9be978d08309",
   "metadata": {},
   "outputs": [],
   "source": [
    "num_pairs = 1000\n",
    "all_pairs = []\n",
    "while len(all_pairs) < 2 * num_pairs:\n",
    "    \n",
    "    sentence = pcfg._sample()\n",
    "    query_item = np.random.randint(0, len(sentence))\n",
    "    \n",
    "    parents = [i for i in range(len(sentence)) if sentence[i].id == sentence[query_item].head_id]\n",
    "    siblings = [i for i in range(len(sentence)) if sentence[i].head_id == sentence[query_item].head_id and sentence[i].id != sentence[query_item].id]\n",
    "    \n",
    "    if query_item - 1 in siblings and len(parents) == 1 and query_item - 2 == parents[0]:\n",
    "        \n",
    "        par_item   = int(sentence[query_item - 2].label[1:]) + pcfg.TERMINAL_START\n",
    "        sib_item   = int(sentence[query_item - 1].label[1:]) + pcfg.TERMINAL_START\n",
    "        query_item = int(sentence[query_item].label[1:]) + pcfg.TERMINAL_START\n",
    "        \n",
    "        query  = [query_item, QueryType.PARENT + pcfg.QUERY_START, par_item]\n",
    "        tokens = [pcfg.BOS] + [int(x.label[1:]) + pcfg.TERMINAL_START for x in sentence] + [pcfg.EOS] + query + [pcfg.EOS]\n",
    "\n",
    "        counter_query  = [query_item, QueryType.PARENT + pcfg.QUERY_START, sib_item]\n",
    "        counter_tokens = [pcfg.BOS] + [int(x.label[1:]) + pcfg.TERMINAL_START for x in sentence] + [pcfg.EOS] + counter_query + [pcfg.EOS]\n",
    "        \n",
    "        all_pairs.extend([tokens, counter_tokens])"
   ]
  },
  {
   "cell_type": "code",
   "execution_count": 265,
   "id": "312d8a5e-dc15-480d-ac34-adb9ad65f1a9",
   "metadata": {},
   "outputs": [],
   "source": [
    "max_len = max(len(t) for t in all_pairs)\n",
    "pairs_padded = np.stack([t + [pcfg.PAD] * (max_len - len(t)) for t in all_pairs], axis=0)\n",
    "labels = pairs_padded.copy()\n",
    "labels[labels == pcfg.PAD] = -100\n",
    "\n",
    "input_ids = torch.tensor(pairs_padded, device=model.device, dtype=torch.long)\n",
    "labels    = torch.tensor(labels, device=model.device, dtype=torch.long)"
   ]
  },
  {
   "cell_type": "code",
   "execution_count": 266,
   "id": "08ba43a3-19cf-4acc-9d74-e59fb189572a",
   "metadata": {},
   "outputs": [],
   "source": [
    "query_probs = []\n",
    "\n",
    "with torch.no_grad():\n",
    "    output = early_model(input_ids = input_ids, labels = labels)\n",
    "    probs  = torch.softmax(output.logits, dim=-1) # batch_size x seq_len x vocab_size\n",
    "    \n",
    "    unpadded_len = (input_ids != pcfg.PAD).sum(dim=1)\n",
    "    query_token = unpadded_len - 3\n",
    "    query_answers = input_ids[torch.arange(len(input_ids)), query_token + 1]\n",
    "    query_type = input_ids[torch.arange(len(input_ids)), query_token]\n",
    "    query_probs.append(probs[torch.arange(len(probs)), query_token, query_answers])\n",
    "\n",
    "with torch.no_grad():\n",
    "    output = late_model(input_ids = input_ids, labels = labels)\n",
    "    probs  = torch.softmax(output.logits, dim=-1) # batch_size x seq_len x vocab_size\n",
    "    \n",
    "    unpadded_len = (input_ids != pcfg.PAD).sum(dim=1)\n",
    "    query_token = unpadded_len - 3\n",
    "    query_answers = input_ids[torch.arange(len(input_ids)), query_token + 1]\n",
    "    query_type = input_ids[torch.arange(len(input_ids)), query_token]\n",
    "    query_probs.append(probs[torch.arange(len(probs)), query_token, query_answers])\n",
    "\n",
    "df = pd.DataFrame({\n",
    "    \"model\": [\"early\"] * 2 + [\"late\"] * 2,\n",
    "    \"token\": [\"true_parent\", \"prev_token\"] * 2,\n",
    "    \"mean\": [query_probs[0][::2].numpy().mean(), query_probs[0][1::2].numpy().mean(),\n",
    "             query_probs[1][::2].numpy().mean(), query_probs[1][1::2].numpy().mean()]\n",
    "})"
   ]
  },
  {
   "cell_type": "code",
   "execution_count": 267,
   "id": "0c815df7-27d6-4741-9522-5bce7a891323",
   "metadata": {},
   "outputs": [
    {
     "data": {
      "image/png": "[encoded data removed]"
     },
     "metadata": {},
     "output_type": "display_data"
    }
   ],
   "source": [
    "%config InlineBackend.figure_format = 'png'\n",
    "\n",
    "plot = (\n",
    "    p9.ggplot(df, p9.aes(x=\"model\", y=\"mean\", fill=\"token\")) +\n",
    "    p9.geom_bar(stat=\"identity\", position=\"dodge\") +\n",
    "    p9.theme_minimal() +\n",
    "    p9.labs(x=\"\", y=\"probability\")\n",
    ")\n",
    "\n",
    "plot.show()"
   ]
  },
  {
   "cell_type": "markdown",
   "id": "2865ad4d-9790-4c97-b257-369ba1571657",
   "metadata": {},
   "source": [
    "# analysis 2: linear das?\n",
    "\n",
    "two types of clean/corrupt pairs:\n",
    "\n",
    "(1) corruption on query token\n",
    "\n",
    "1. ... | x R...\n",
    "2. ... | y R...\n",
    "\n",
    "(2) corruption on relation\n",
    "\n",
    "1. ... | x R1...\n",
    "2. ... | x R2..."
   ]
  },
  {
   "cell_type": "code",
   "execution_count": null,
   "id": "1b821447-1c7e-4dec-b23e-da6601a46eae",
   "metadata": {},
   "outputs": [],
   "source": [
    "num_pairs = 1000\n",
    "\n",
    "all_pairs = {\n",
    "    'query' : [],\n",
    "    'relation' : []\n",
    "}\n",
    "\n",
    "while len(all_pairs) < 2 * num_pairs:\n",
    "    \n",
    "    sentence = pcfg._sample()\n",
    "    query_item = np.random.randint(0, len(sentence))\n",
    "    \n",
    "    parents = [i for i in range(len(sentence)) if sentence[i].id == sentence[query_item].head_id]\n",
    "    children = [i for i in range(len(sentence)) if sentence[i].head_id == sentence[query_item].id]\n",
    "    siblings = [i for i in range(len(sentence)) if sentence[i].head_id == sentence[query_item].head_id and sentence[i].id != sentence[query_item].id]\n",
    "\n",
    "    query_item = int(sentence[query_item].label[1:]) + self.TERMINAL_START\n",
    "\n",
    "    acceptable_query_types = []\n",
    "    \n",
    "    if len(parents) > 0:\n",
    "        acceptable_query_types.append(QueryType.PARENT)\n",
    "    if len(children) > 0:\n",
    "        acceptable_query_types.append(QueryType.CHILD)\n",
    "    if len(siblings) > 0:\n",
    "        acceptable_query_types.append(QueryType.SIBLING)\n",
    "    \n",
    "    if len(acceptable_query_types) < 2:\n",
    "        continue\n",
    "    \n",
    "    query_type = np.random.choice(acceptable_query_types)\n",
    "    \n",
    "    acceptable_query_types.remove(query_type)\n",
    "    corrupt_query_type = np.random.choice(acceptable_query_types)\n",
    "    \n",
    "    if query_type == QueryType.PARENT:\n",
    "        target_item = np.random.choice(parents)\n",
    "    elif query_type == QueryType.CHILD:\n",
    "        target_item = np.random.choice(children)\n",
    "    elif query_type == QueryType.SIBLING:\n",
    "        target_item = np.random.choice(siblings)\n",
    "    \n",
    "    target_item = int(sentence[target_item].label[1:]) + self.TERMINAL_START\n",
    "    \n",
    "    clean_query = [query_item, query_type + self.QUERY_START, target_item]\n",
    "    clean_tokens = [self.BOS] + [int(x.label[1:]) + self.TERMINAL_START for x in sentence] + [self.EOS] + query + [self.EOS]\n",
    "\n",
    "    corrupt_query = [query_item, corrupt_query_type + self.QUERY_START, target_item]\n",
    "    corrupt_tokens = [self.BOS] + [int(x.label[1:]) + self.TERMINAL_START for x in sentence] + [self.EOS] + query + [self.EOS]\n",
    "\n"
   ]
  }
 ],
 "metadata": {
  "kernelspec": {
   "display_name": "Python 3 (ipykernel)",
   "language": "python",
   "name": "python3"
  },
  "language_info": {
   "codemirror_mode": {
    "name": "ipython",
    "version": 3
   },
   "file_extension": ".py",
   "mimetype": "text/x-python",
   "name": "python",
   "nbconvert_exporter": "python",
   "pygments_lexer": "ipython3",
   "version": "3.12.4"
  }
 },
 "nbformat": 4,
 "nbformat_minor": 5
}
