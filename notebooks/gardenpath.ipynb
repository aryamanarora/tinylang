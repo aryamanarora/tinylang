{
 "cells": [
  {
   "cell_type": "code",
   "execution_count": 1,
   "id": "06d5a46a-6bb3-4c5c-8e36-8b4d891c41bc",
   "metadata": {},
   "outputs": [],
   "source": [
    "import sys\n",
    "sys.path.append(\"..\")\n",
    "from tinylang import GardenPathPCFG, PCFG, train, init_model, QueryType\n",
    "import pickle as pkl\n",
    "\n",
    "from transformers import GPT2Config, GPT2LMHeadModel\n",
    "import torch\n",
    "\n",
    "from sklearn.decomposition import PCA\n",
    "import pandas as pd\n",
    "import plotnine as p9\n",
    "from sklearn.feature_selection import r_regression\n",
    "\n",
    "import matplotlib.pyplot as plt\n",
    "import seaborn as sns\n",
    "\n",
    "device = \"cuda:0\" if torch.cuda.is_available() else \"cpu\""
   ]
  },
  {
   "cell_type": "code",
   "execution_count": 2,
   "id": "0b0b8c57-dbbb-4a15-a62f-9127111da7df",
   "metadata": {},
   "outputs": [],
   "source": [
    "pcfg = GardenPathPCFG(num_verbs=10,\n",
    "                      num_nouns=10,\n",
    "                      max_depth=5)"
   ]
  },
  {
   "cell_type": "code",
   "execution_count": 3,
   "id": "c6be0286-ae23-498e-a3b9-c69e91d2abbb",
   "metadata": {},
   "outputs": [
    {
     "ename": "KeyError",
     "evalue": "'V'",
     "output_type": "error",
     "traceback": [
      "\u001b[0;31m---------------------------------------------------------------------------\u001b[0m",
      "\u001b[0;31mKeyError\u001b[0m                                  Traceback (most recent call last)",
      "Cell \u001b[0;32mIn[3], line 1\u001b[0m\n\u001b[0;32m----> 1\u001b[0m \u001b[43mpcfg\u001b[49m\u001b[38;5;241;43m.\u001b[39;49m\u001b[43m_sample\u001b[49m\u001b[43m(\u001b[49m\u001b[43m)\u001b[49m\n",
      "File \u001b[0;32m~/projects/tinylang/notebooks/../tinylang/language.py:101\u001b[0m, in \u001b[0;36mPCFG._sample\u001b[0;34m(self)\u001b[0m\n\u001b[1;32m     99\u001b[0m next_id \u001b[38;5;241m+\u001b[39m\u001b[38;5;241m=\u001b[39m \u001b[38;5;241m1\u001b[39m\n\u001b[1;32m    100\u001b[0m \u001b[38;5;66;03m# first sample the head (placed on the left)\u001b[39;00m\n\u001b[0;32m--> 101\u001b[0m head \u001b[38;5;241m=\u001b[39m np\u001b[38;5;241m.\u001b[39mrandom\u001b[38;5;241m.\u001b[39mchoice(\u001b[38;5;28mlen\u001b[39m(\u001b[38;5;28mself\u001b[39m\u001b[38;5;241m.\u001b[39mterminals), p\u001b[38;5;241m=\u001b[39m\u001b[38;5;28;43mself\u001b[39;49m\u001b[38;5;241;43m.\u001b[39;49m\u001b[43mhead_probs\u001b[49m\u001b[43m[\u001b[49m\u001b[43mnt\u001b[49m\u001b[43m]\u001b[49m)\n\u001b[1;32m    102\u001b[0m generated_new\u001b[38;5;241m.\u001b[39mappend(Node(\u001b[38;5;28mstr\u001b[39m(\u001b[38;5;28mself\u001b[39m\u001b[38;5;241m.\u001b[39mterminals[head]), this_head_id, head_id))\n\u001b[1;32m    104\u001b[0m \u001b[38;5;66;03m# then sample the rhs\u001b[39;00m\n",
      "\u001b[0;31mKeyError\u001b[0m: 'V'"
     ]
    }
   ],
   "source": [
    "pcfg._sample()"
   ]
  }
 ],
 "metadata": {
  "kernelspec": {
   "display_name": "Python 3 (ipykernel)",
   "language": "python",
   "name": "python3"
  },
  "language_info": {
   "codemirror_mode": {
    "name": "ipython",
    "version": 3
   },
   "file_extension": ".py",
   "mimetype": "text/x-python",
   "name": "python",
   "nbconvert_exporter": "python",
   "pygments_lexer": "ipython3",
   "version": "3.12.4"
  }
 },
 "nbformat": 4,
 "nbformat_minor": 5
}
